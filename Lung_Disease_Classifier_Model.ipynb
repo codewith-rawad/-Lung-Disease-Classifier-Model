{
  "nbformat": 4,
  "nbformat_minor": 0,
  "metadata": {
    "colab": {
      "provenance": [],
      "gpuType": "T4"
    },
    "kernelspec": {
      "name": "python3",
      "display_name": "Python 3"
    },
    "language_info": {
      "name": "python"
    },
    "accelerator": "GPU"
  },
  "cells": [
    {
      "cell_type": "markdown",
      "source": [
        "# Dataset Overview\n",
        "\n",
        "The dataset consists of chest X-ray images categorized into three different disease classes:\n",
        "\n",
        "1. **Pneumothorax**  \n",
        "   Pneumothorax is a condition where air leaks into the space between the lung and chest wall, causing the lung to collapse partially or completely. Early detection is crucial for effective treatment.\n",
        "\n",
        "2. **Pneumonia**  \n",
        "   Pneumonia is an infection that inflames the air sacs in one or both lungs, which may fill with fluid or pus. It is a common respiratory illness that can range from mild to severe.\n",
        "\n",
        "3. **Cancer**  \n",
        "   The dataset includes cases of lung cancer, characterized by uncontrolled growth of abnormal cells in lung tissues. Accurate and timely diagnosis is essential for patient prognosis.\n",
        "\n",
        "This dataset includes labeled images for each category, which can be utilized for training and evaluating machine learning models in medical image classification tasks. The images were collected and annotated by expert radiologists, ensuring high-quality ground truth for disease classification.\n"
      ],
      "metadata": {
        "id": "suhk0zzYAFaK"
      }
    },
    {
      "cell_type": "markdown",
      "source": [
        "#  Project Imports Overview\n",
        "\n",
        "This section provides a clean and organized list of all the required imports for a PyTorch-based image classification project using chest X-ray images.\n",
        "\n",
        "##  Machine Learning Libraries\n",
        "- `torch`, `torch.nn`, `torch.optim`: Core PyTorch functionality.\n",
        "- `torch.utils.data`: For dataset and data loader definitions.\n",
        "- `torchvision.models`: Pretrained models like ResNet.\n",
        "- `torchvision.transforms`: Image preprocessing and augmentation tools.\n",
        "\n",
        "##  Data and Evaluation\n",
        "- `pandas`: For handling structured data such as CSVs.\n",
        "- `PIL.Image`: To open and process image files.\n",
        "- `sklearn`: For splitting datasets and calculating accuracy.\n",
        "\n",
        "##  Utilities\n",
        "- `os`, `shutil`: File and directory management.\n",
        "- `datetime`: Timestamping saved models or logs.\n",
        "- `tqdm`: Progress bar for training loops.\n",
        "\n",
        "\n"
      ],
      "metadata": {
        "id": "2JjR0CasA4FL"
      }
    },
    {
      "cell_type": "code",
      "source": [
        "# PyTorch core libraries\n",
        "import torch\n",
        "import torch.nn as nn\n",
        "import torch.optim as optim\n",
        "from torch.utils.data import Dataset, DataLoader\n",
        "\n",
        "# Torchvision models and transforms\n",
        "import torchvision.models as models\n",
        "from torchvision import transforms\n",
        "\n",
        "# Basic Python and system libraries\n",
        "import os\n",
        "import shutil\n",
        "import datetime\n",
        "\n",
        "# Data handling\n",
        "import pandas as pd\n",
        "from PIL import Image\n",
        "\n",
        "# Scikit-learn for metrics and preprocessing\n",
        "from sklearn.model_selection import train_test_split\n",
        "from sklearn.preprocessing import LabelEncoder\n",
        "from sklearn.metrics import accuracy_score\n",
        "\n",
        "# Progress bar\n",
        "from tqdm import tqdm\n"
      ],
      "metadata": {
        "id": "Uk9DLIOOAbnk"
      },
      "execution_count": 25,
      "outputs": []
    },
    {
      "cell_type": "markdown",
      "source": [
        "## 🔗 Mounting Google Drive in Google Colab"
      ],
      "metadata": {
        "id": "AJ8BwJg5BGgZ"
      }
    },
    {
      "cell_type": "code",
      "execution_count": 28,
      "metadata": {
        "colab": {
          "base_uri": "https://localhost:8080/"
        },
        "id": "isUV23gIuLoS",
        "outputId": "7e4caa48-76e8-4c65-a2f2-20092b5afa07"
      },
      "outputs": [
        {
          "output_type": "stream",
          "name": "stdout",
          "text": [
            "Drive already mounted at /content/drive; to attempt to forcibly remount, call drive.mount(\"/content/drive\", force_remount=True).\n"
          ]
        }
      ],
      "source": [
        "import os\n",
        "import shutil\n",
        "from google.colab import drive\n",
        "\n",
        "# 🔗 Mount Google Drive to access or save files\n",
        "drive.mount('/content/drive')\n"
      ]
    },
    {
      "cell_type": "markdown",
      "source": [
        "## 📂 Loading Dataset Metadata from Google Drive"
      ],
      "metadata": {
        "id": "vsIUqYdcBnKX"
      }
    },
    {
      "cell_type": "code",
      "source": [
        "import os\n",
        "import pandas as pd\n",
        "\n",
        "# Define base directory path for training images and CSV\n",
        "base_path = '/content/drive/MyDrive/TestLung.v1i.multiclass/train'\n",
        "\n",
        "#  Define the path to the CSV file that contains class labels or metadata\n",
        "csv_path = os.path.join(base_path, '_classes.csv')\n",
        "\n",
        "#  Load the CSV file into a DataFrame\n",
        "df = pd.read_csv(csv_path)\n",
        "\n"
      ],
      "metadata": {
        "id": "GA5PdwPnyhb_"
      },
      "execution_count": 32,
      "outputs": []
    },
    {
      "cell_type": "markdown",
      "source": [
        "\n",
        "## 📂 Dataset Summary"
      ],
      "metadata": {
        "id": "98IMCUM_CYIA"
      }
    },
    {
      "cell_type": "code",
      "source": [
        "import pandas as pd\n",
        "from tabulate import tabulate\n",
        "from collections import Counter\n",
        "\n",
        "csv_path = '/content/drive/MyDrive/TestLung.v1i.multiclass/train/_classes.csv'\n",
        "df = pd.read_csv(csv_path)\n",
        "\n",
        "\n",
        "print(\"📄 Sample from dataset:\")\n",
        "print(tabulate(df.head(), headers='keys', tablefmt='fancy_grid'))\n"
      ],
      "metadata": {
        "colab": {
          "base_uri": "https://localhost:8080/"
        },
        "id": "aZ8vbKrbB2dX",
        "outputId": "ee5c8384-7a5a-4216-cc42-376c19e06b3d"
      },
      "execution_count": 31,
      "outputs": [
        {
          "output_type": "stream",
          "name": "stdout",
          "text": [
            "📄 Sample from dataset:\n",
            "╒════╤═════════════════════════════════════════════════════════════════════════════════════════════════════════╤═════════════════════╤═════════════╤══════════╕\n",
            "│    │ filename                                                                                                │   12 - Pneumothorax │   Pneumonia │   cancer │\n",
            "╞════╪═════════════════════════════════════════════════════════════════════════════════════════════════════════╪═════════════════════╪═════════════╪══════════╡\n",
            "│  0 │ person109_bacteria_523_jpeg.rf.081e2df3b43eed7d7281016cfff6c1c0.jpg                                     │                   0 │           1 │        0 │\n",
            "├────┼─────────────────────────────────────────────────────────────────────────────────────────────────────────┼─────────────────────┼─────────────┼──────────┤\n",
            "│  1 │ JPCLN023_png.rf.a20d8d0891706638ee904963be828b89.jpg                                                    │                   0 │           0 │        1 │\n",
            "├────┼─────────────────────────────────────────────────────────────────────────────────────────────────────────┼─────────────────────┼─────────────┼──────────┤\n",
            "│  2 │ JPCLN018_png.rf.9641422ea603daabcfabe1d0f9ea368f.jpg                                                    │                   0 │           0 │        1 │\n",
            "├────┼─────────────────────────────────────────────────────────────────────────────────────────────────────────┼─────────────────────┼─────────────┼──────────┤\n",
            "│  3 │ large-pneumothorax-1_jpg.rf.7e14084bdb05418307dc543162d00bd3.jpg                                        │                   1 │           0 │        0 │\n",
            "├────┼─────────────────────────────────────────────────────────────────────────────────────────────────────────┼─────────────────────┼─────────────┼──────────┤\n",
            "│  4 │ CheXpert-v1-0-small_train_patient47715_study1_view1_frontal_jpg.rf.59a9ffc9432129dcd95027dca82bfa28.jpg │                   1 │           0 │        0 │\n",
            "╘════╧═════════════════════════════════════════════════════════════════════════════════════════════════════════╧═════════════════════╧═════════════╧══════════╛\n"
          ]
        }
      ]
    },
    {
      "cell_type": "markdown",
      "source": [
        "## 🏷️ Label Extraction Strategy"
      ],
      "metadata": {
        "id": "CAo5bEyKCqMI"
      }
    },
    {
      "cell_type": "code",
      "source": [
        "classes = ['12 - Pneumothorax', 'Pneumonia', 'cancer']\n",
        "def get_label(row):\n",
        "    for cls in classes:\n",
        "        if row[cls] == 1:\n",
        "            return cls\n",
        "    return 'No Finding'\n",
        "df['label'] = df.apply(get_label, axis=1)"
      ],
      "metadata": {
        "id": "S8625PQfy3Th"
      },
      "execution_count": 5,
      "outputs": []
    },
    {
      "cell_type": "markdown",
      "source": [
        "## 🔀 Dataset Splitting Strategy"
      ],
      "metadata": {
        "id": "U7SKnKC4CvId"
      }
    },
    {
      "cell_type": "code",
      "source": [
        "\n",
        "train_val_df, test_df = train_test_split(df, test_size=0.15, random_state=42, stratify=df['label'])\n",
        "train_df, val_df = train_test_split(train_val_df, test_size=0.1765, random_state=42, stratify=train_val_df['label'])"
      ],
      "metadata": {
        "id": "6z8AaCHuy616"
      },
      "execution_count": 6,
      "outputs": []
    },
    {
      "cell_type": "markdown",
      "source": [
        "## 🔢 Label Encoding"
      ],
      "metadata": {
        "id": "vUqD7SLCC1Fj"
      }
    },
    {
      "cell_type": "code",
      "source": [
        "le = LabelEncoder()\n",
        "train_df['label_encoded'] = le.fit_transform(train_df['label'])\n",
        "val_df['label_encoded'] = le.transform(val_df['label'])\n",
        "test_df['label_encoded'] = le.transform(test_df['label'])"
      ],
      "metadata": {
        "id": "R8Oz5j15y8jI"
      },
      "execution_count": 10,
      "outputs": []
    },
    {
      "cell_type": "markdown",
      "source": [
        "## 🛠️ Correcting Image Paths Function"
      ],
      "metadata": {
        "id": "No8iVLysC8Ur"
      }
    },
    {
      "cell_type": "code",
      "source": [
        "def correct_path(row):\n",
        "    filename = row['filename']\n",
        "\n",
        "    if os.path.exists(os.path.join(base_path, filename)):\n",
        "        return os.path.join(base_path, filename)\n",
        "\n",
        "    for folder in ['train', 'val', 'test']:\n",
        "        path = os.path.join(base_path, folder, filename)\n",
        "        if os.path.exists(path):\n",
        "            return path\n",
        "    return None"
      ],
      "metadata": {
        "id": "6lyicOhUy-eD"
      },
      "execution_count": 11,
      "outputs": []
    },
    {
      "cell_type": "markdown",
      "source": [
        "## 🔄 Applying `correct_path` Function to DataFrames"
      ],
      "metadata": {
        "id": "veWadbSyDH9V"
      }
    },
    {
      "cell_type": "code",
      "source": [
        "train_df['correct_path'] = train_df.apply(correct_path, axis=1)\n",
        "val_df['correct_path'] = val_df.apply(correct_path, axis=1)\n",
        "test_df['correct_path'] = test_df.apply(correct_path, axis=1)"
      ],
      "metadata": {
        "id": "iyiu4PC9zAFv"
      },
      "execution_count": 12,
      "outputs": []
    },
    {
      "cell_type": "markdown",
      "source": [
        "# 📊 Data Distribution Overview"
      ],
      "metadata": {
        "id": "pWsoTReMDYqT"
      }
    },
    {
      "cell_type": "code",
      "source": [
        "import matplotlib.pyplot as plt\n",
        "\n",
        "def plot_class_distribution(df, title):\n",
        "    counts = df['label'].value_counts()\n",
        "    plt.figure(figsize=(8,5))\n",
        "    counts.plot(kind='bar', color=['#003f5c', '#58508d', '#bc5090'])\n",
        "    plt.title(title, fontsize=14)\n",
        "    plt.xlabel('Classes')\n",
        "    plt.ylabel('Number of Samples')\n",
        "    plt.xticks(rotation=45)\n",
        "    plt.grid(axis='y', linestyle='--', alpha=0.7)\n",
        "    plt.show()\n",
        "\n",
        "# Plot class distributions for train, val and test datasets\n",
        "plot_class_distribution(train_df, '📊 Training Set Class Distribution')\n",
        "plot_class_distribution(val_df, '📊 Validation Set Class Distribution')\n",
        "plot_class_distribution(test_df, '📊 Test Set Class Distribution')\n"
      ],
      "metadata": {
        "colab": {
          "base_uri": "https://localhost:8080/",
          "height": 1000
        },
        "id": "lO9Fit0oDOYf",
        "outputId": "4c8b291a-9e65-49e7-98ab-2f7e8ab8b9e9"
      },
      "execution_count": 33,
      "outputs": [
        {
          "output_type": "stream",
          "name": "stderr",
          "text": [
            "/usr/local/lib/python3.11/dist-packages/IPython/core/pylabtools.py:151: UserWarning: Glyph 128202 (\\N{BAR CHART}) missing from font(s) DejaVu Sans.\n",
            "  fig.canvas.print_figure(bytes_io, **kw)\n"
          ]
        },
        {
          "output_type": "display_data",
          "data": {
            "text/plain": [
              "<Figure size 800x500 with 1 Axes>"
            ],
            "image/png": "[encoded data removed]"
          },
          "metadata": {}
        },
        {
          "output_type": "stream",
          "name": "stderr",
          "text": [
            "/usr/local/lib/python3.11/dist-packages/IPython/core/pylabtools.py:151: UserWarning: Glyph 128202 (\\N{BAR CHART}) missing from font(s) DejaVu Sans.\n",
            "  fig.canvas.print_figure(bytes_io, **kw)\n"
          ]
        },
        {
          "output_type": "display_data",
          "data": {
            "text/plain": [
              "<Figure size 800x500 with 1 Axes>"
            ],
            "image/png": "[encoded data removed]"
          },
          "metadata": {}
        },
        {
          "output_type": "stream",
          "name": "stderr",
          "text": [
            "/usr/local/lib/python3.11/dist-packages/IPython/core/pylabtools.py:151: UserWarning: Glyph 128202 (\\N{BAR CHART}) missing from font(s) DejaVu Sans.\n",
            "  fig.canvas.print_figure(bytes_io, **kw)\n"
          ]
        },
        {
          "output_type": "display_data",
          "data": {
            "text/plain": [
              "<Figure size 800x500 with 1 Axes>"
            ],
            "image/png": "[encoded data removed]"
          },
          "metadata": {}
        }
      ]
    },
    {
      "cell_type": "markdown",
      "source": [
        "# 🏥 Custom Dataset Class for Medical Images"
      ],
      "metadata": {
        "id": "mgiAijIODc77"
      }
    },
    {
      "cell_type": "code",
      "source": [
        "class MedicalDataset(Dataset):\n",
        "    def __init__(self, dataframe, transform=None):\n",
        "        self.df = dataframe\n",
        "        self.transform = transform\n",
        "\n",
        "    def __len__(self):\n",
        "        return len(self.df)\n",
        "\n",
        "    def __getitem__(self, idx):\n",
        "        row = self.df.iloc[idx]\n",
        "        img_path = row['correct_path']\n",
        "        image = Image.open(img_path).convert('RGB')\n",
        "\n",
        "        if self.transform:\n",
        "            image = self.transform(image)\n",
        "\n",
        "        label = row['label_encoded']\n",
        "        return image, torch.tensor(label).long()"
      ],
      "metadata": {
        "id": "l3WTVI7PzB7E"
      },
      "execution_count": 13,
      "outputs": []
    },
    {
      "cell_type": "markdown",
      "source": [
        "# 🎨 Image Transformations for Training and Validation/Test Sets"
      ],
      "metadata": {
        "id": "2N7Rz8tYDoIp"
      }
    },
    {
      "cell_type": "code",
      "source": [
        "train_transform = transforms.Compose([\n",
        "    transforms.Resize((224, 224)),\n",
        "    transforms.RandomHorizontalFlip(),\n",
        "    transforms.RandomRotation(15),\n",
        "    transforms.ToTensor(),\n",
        "    transforms.Normalize(mean=[0.485, 0.456, 0.406], std=[0.229, 0.224, 0.225])\n",
        "])\n",
        "\n",
        "val_test_transform = transforms.Compose([\n",
        "    transforms.Resize((224, 224)),\n",
        "    transforms.ToTensor(),\n",
        "    transforms.Normalize(mean=[0.485, 0.456, 0.406], std=[0.229, 0.224, 0.225])\n",
        "])\n"
      ],
      "metadata": {
        "id": "t9OAMi7gzFar"
      },
      "execution_count": 14,
      "outputs": []
    },
    {
      "cell_type": "markdown",
      "source": [
        "# 🚚 Dataset and DataLoader Setup"
      ],
      "metadata": {
        "id": "K8rxUC6qDtAy"
      }
    },
    {
      "cell_type": "code",
      "source": [
        "train_dataset = MedicalDataset(train_df, transform=train_transform)\n",
        "val_dataset = MedicalDataset(val_df, transform=val_test_transform)\n",
        "test_dataset = MedicalDataset(test_df, transform=val_test_transform)\n",
        "\n",
        "train_loader = DataLoader(train_dataset, batch_size=16, shuffle=True, num_workers=2)\n",
        "val_loader = DataLoader(val_dataset, batch_size=8, shuffle=False, num_workers=2)\n",
        "test_loader = DataLoader(test_dataset, batch_size=8, shuffle=False, num_workers=2)"
      ],
      "metadata": {
        "id": "1OIu_LFmzISw"
      },
      "execution_count": 15,
      "outputs": []
    },
    {
      "cell_type": "markdown",
      "source": [
        "# 🔥 Model Overview: ResNet18 Architecture\n",
        "\n",
        "## 1. What is ResNet18?\n",
        "\n",
        "ResNet18 is a **Residual Neural Network** with 18 layers, introduced by He et al. (2015). It is widely used for image classification tasks thanks to its residual connections which help train deeper networks without the vanishing gradient problem.\n",
        "\n",
        "---\n",
        "\n",
        "## 2. Architecture Details\n",
        "\n",
        "| Layer Type               | Description                                      | Number of Layers / Units |\n",
        "|-------------------------|------------------------------------------------|-------------------------|\n",
        "| Initial Convolution     | 7x7 conv, stride 2, padding 3, followed by max pooling | 1                       |\n",
        "| Residual Blocks (Basic) | 8 blocks total, each block has 2 convolutional layers | 16 (2 per block)         |\n",
        "| Fully Connected (FC)     | Linear layer adapting to the number of classes  | 1                       |\n",
        "\n",
        "- **Total layers:** 18 layers  \n",
        "- Each residual block contains two 3x3 convolutional layers with batch normalization and ReLU activation.\n",
        "- The residual shortcut connections skip one or more layers to allow gradients to flow better during backpropagation.\n",
        "\n",
        "---\n",
        "\n",
        "## 3. Parameter Count\n",
        "\n",
        "| Component           | Number of Parameters (approximate)  |\n",
        "|---------------------|------------------------------------|\n",
        "| Initial Conv Layer   | ~9,408                             |\n",
        "| Residual Blocks     | ~11.2 million                      |\n",
        "| Fully Connected     | Depends on number of classes (e.g., for 3 classes ~1,539) |\n",
        "| **Total Params**    | ~11.7 million                      |\n",
        "\n",
        "\n",
        "-\n"
      ],
      "metadata": {
        "id": "l5JHl7WED_-6"
      }
    },
    {
      "cell_type": "code",
      "source": [
        "device = torch.device('cuda' if torch.cuda.is_available() else 'cpu')\n",
        "model = models.resnet18(pretrained=True)\n",
        "num_classes = len(le.classes_)\n",
        "model.fc = nn.Linear(model.fc.in_features, num_classes)\n",
        "model = model.to(device)"
      ],
      "metadata": {
        "colab": {
          "base_uri": "https://localhost:8080/"
        },
        "id": "PbNvmPZXzKiV",
        "outputId": "d24023a5-88d8-4646-a8f7-9c13d7d625d5"
      },
      "execution_count": 16,
      "outputs": [
        {
          "output_type": "stream",
          "name": "stderr",
          "text": [
            "/usr/local/lib/python3.11/dist-packages/torchvision/models/_utils.py:208: UserWarning: The parameter 'pretrained' is deprecated since 0.13 and may be removed in the future, please use 'weights' instead.\n",
            "  warnings.warn(\n",
            "/usr/local/lib/python3.11/dist-packages/torchvision/models/_utils.py:223: UserWarning: Arguments other than a weight enum or `None` for 'weights' are deprecated since 0.13 and may be removed in the future. The current behavior is equivalent to passing `weights=ResNet18_Weights.IMAGENET1K_V1`. You can also use `weights=ResNet18_Weights.DEFAULT` to get the most up-to-date weights.\n",
            "  warnings.warn(msg)\n",
            "Downloading: \"https://download.pytorch.org/models/resnet18-f37072fd.pth\" to /root/.cache/torch/hub/checkpoints/resnet18-f37072fd.pth\n",
            "100%|██████████| 44.7M/44.7M [00:00<00:00, 56.6MB/s]\n"
          ]
        }
      ]
    },
    {
      "cell_type": "markdown",
      "source": [
        "# 🔧 Training Components Explained\n",
        "## 1. Loss Function: CrossEntropyLoss\n",
        "## 2. Optimizer: Adam\n",
        "## 3. Learning Rate Scheduler: StepLR"
      ],
      "metadata": {
        "id": "XSi-C7iPEMAT"
      }
    },
    {
      "cell_type": "code",
      "source": [
        "criterion = nn.CrossEntropyLoss()\n",
        "optimizer = torch.optim.Adam(model.parameters(), lr=1e-4)\n",
        "scheduler = torch.optim.lr_scheduler.StepLR(optimizer, step_size=7, gamma=0.1)"
      ],
      "metadata": {
        "id": "JEN96cQMzMAL"
      },
      "execution_count": 17,
      "outputs": []
    },
    {
      "cell_type": "markdown",
      "source": [
        "# 🚀 Training Loop"
      ],
      "metadata": {
        "id": "JAHpzdVZEaBT"
      }
    },
    {
      "cell_type": "code",
      "source": [
        "def train_one_epoch(model, dataloader, criterion, optimizer, device):\n",
        "    model.train()\n",
        "    running_loss = 0.0\n",
        "    correct = 0\n",
        "    total = 0\n",
        "\n",
        "    for inputs, labels in tqdm(dataloader, desc=\"Training\"):\n",
        "        inputs, labels = inputs.to(device), labels.to(device)\n",
        "\n",
        "        optimizer.zero_grad()\n",
        "        outputs = model(inputs)\n",
        "        loss = criterion(outputs, labels)\n",
        "        loss.backward()\n",
        "        optimizer.step()\n",
        "\n",
        "        running_loss += loss.item() * inputs.size(0)\n",
        "        _, preds = torch.max(outputs, 1)\n",
        "        correct += (preds == labels).sum().item()\n",
        "        total += labels.size(0)\n",
        "\n",
        "    epoch_loss = running_loss / total\n",
        "    epoch_acc = correct / total\n",
        "    return epoch_loss, epoch_acc"
      ],
      "metadata": {
        "id": "ZPg0MaMQzPRH"
      },
      "execution_count": 18,
      "outputs": []
    },
    {
      "cell_type": "markdown",
      "source": [
        "# 🔍 Evaluation Loop"
      ],
      "metadata": {
        "id": "C4jF4qAKEj6O"
      }
    },
    {
      "cell_type": "code",
      "source": [
        "\n",
        "def evaluate(model, dataloader, criterion, device):\n",
        "    model.eval()\n",
        "    running_loss = 0.0\n",
        "    correct = 0\n",
        "    total = 0\n",
        "\n",
        "    with torch.no_grad():\n",
        "        for inputs, labels in tqdm(dataloader, desc=\"Evaluating\"):\n",
        "            inputs, labels = inputs.to(device), labels.to(device)\n",
        "            outputs = model(inputs)\n",
        "            loss = criterion(outputs, labels)\n",
        "\n",
        "            running_loss += loss.item() * inputs.size(0)\n",
        "            _, preds = torch.max(outputs, 1)\n",
        "            correct += (preds == labels).sum().item()\n",
        "            total += labels.size(0)\n",
        "\n",
        "    epoch_loss = running_loss / total\n",
        "    epoch_acc = correct / total\n",
        "    return epoch_loss, epoch_acc"
      ],
      "metadata": {
        "id": "jWKLaoAJzR1A"
      },
      "execution_count": 19,
      "outputs": []
    },
    {
      "cell_type": "markdown",
      "source": [],
      "metadata": {
        "id": "SvYzUxRpE1dp"
      }
    },
    {
      "cell_type": "code",
      "source": [],
      "metadata": {
        "colab": {
          "base_uri": "https://localhost:8080/"
        },
        "id": "ezsitn4QEtko",
        "outputId": "f9ab0033-d977-475d-8556-47f02ce53daa"
      },
      "execution_count": 34,
      "outputs": [
        {
          "output_type": "stream",
          "name": "stdout",
          "text": [
            "🔎 Evaluating on test dataset...\n"
          ]
        },
        {
          "output_type": "stream",
          "name": "stderr",
          "text": [
            "Evaluating: 100%|██████████| 6/6 [00:12<00:00,  2.08s/it]"
          ]
        },
        {
          "output_type": "stream",
          "name": "stdout",
          "text": [
            "📊 Test Loss: 0.0618\n",
            "✅ Test Accuracy: 0.9778\n"
          ]
        },
        {
          "output_type": "stream",
          "name": "stderr",
          "text": [
            "\n"
          ]
        }
      ]
    },
    {
      "cell_type": "markdown",
      "source": [],
      "metadata": {
        "id": "lA6S5OepFPyT"
      }
    },
    {
      "cell_type": "code",
      "source": [],
      "metadata": {
        "colab": {
          "base_uri": "https://localhost:8080/",
          "height": 489
        },
        "id": "MFvccmbrFCHj",
        "outputId": "72ae7fcc-f25f-495e-f24a-70d018520e5b"
      },
      "execution_count": 35,
      "outputs": [
        {
          "output_type": "display_data",
          "data": {
            "text/plain": [
              "<Figure size 800x800 with 0 Axes>"
            ]
          },
          "metadata": {}
        },
        {
          "output_type": "display_data",
          "data": {
            "text/plain": [
              "<Figure size 640x480 with 2 Axes>"
            ],
            "image/png": "[encoded data removed]"
          },
          "metadata": {}
        }
      ]
    },
    {
      "cell_type": "code",
      "source": [
        "save_dir = \"/content/drive/MyDrive/MyLungModels\"\n",
        "os.makedirs(save_dir, exist_ok=True)\n"
      ],
      "metadata": {
        "id": "MKENETC7542x"
      },
      "execution_count": 20,
      "outputs": []
    },
    {
      "cell_type": "code",
      "source": [
        "!pip install tqdm"
      ],
      "metadata": {
        "colab": {
          "base_uri": "https://localhost:8080/"
        },
        "id": "Dp7DPSEN6Ct-",
        "outputId": "94fcc526-a43a-4eba-93d8-7743483a72a5"
      },
      "execution_count": 22,
      "outputs": [
        {
          "output_type": "stream",
          "name": "stdout",
          "text": [
            "Requirement already satisfied: tqdm in /usr/local/lib/python3.11/dist-packages (4.67.1)\n"
          ]
        }
      ]
    },
    {
      "cell_type": "code",
      "source": [
        "\n",
        "\n",
        "save_dir = \"/content/drive/MyDrive/MyLungModels\"\n",
        "os.makedirs(save_dir, exist_ok=True)\n",
        "\n",
        "num_epochs = 15\n",
        "best_val_acc = 0.0\n",
        "\n",
        "for epoch in range(num_epochs):\n",
        "    print(f\"\\n📘 Epoch {epoch+1}/{num_epochs}\")\n",
        "    train_loss, train_acc = train_one_epoch(model, train_loader, criterion, optimizer, device)\n",
        "    val_loss, val_acc = evaluate(model, val_loader, criterion, device)\n",
        "    scheduler.step()\n",
        "\n",
        "    print(f\"✅ Train Loss: {train_loss:.4f} | Train Acc: {train_acc:.4f}\")\n",
        "    print(f\"🔎 Val Loss: {val_loss:.4f} | Val Acc: {val_acc:.4f}\")\n",
        "\n",
        "    # حفظ أفضل نموذج في الدرايف\n",
        "    if val_acc > best_val_acc:\n",
        "        best_val_acc = val_acc\n",
        "        timestamp = datetime.datetime.now().strftime(\"%Y%m%d-%H%M%S\")\n",
        "        model_filename = f\"best_model_epoch{epoch+1}_acc{val_acc:.4f}_{timestamp}.pth\"\n",
        "        model_path = os.path.join(save_dir, model_filename)\n",
        "        torch.save(model.state_dict(), model_path)\n",
        "        print(f\"💾 Saved best model to: {model_path}\")\n"
      ],
      "metadata": {
        "colab": {
          "base_uri": "https://localhost:8080/"
        },
        "id": "_MUmGDaEzTzH",
        "outputId": "a9f2d653-c5de-466d-b475-e6a19970e821"
      },
      "execution_count": 23,
      "outputs": [
        {
          "output_type": "stream",
          "name": "stdout",
          "text": [
            "\n",
            "📘 Epoch 1/15\n"
          ]
        },
        {
          "output_type": "stream",
          "name": "stderr",
          "text": [
            "Training: 100%|██████████| 14/14 [01:27<00:00,  6.27s/it]\n",
            "Evaluating: 100%|██████████| 6/6 [00:10<00:00,  1.81s/it]\n"
          ]
        },
        {
          "output_type": "stream",
          "name": "stdout",
          "text": [
            "✅ Train Loss: 0.3630 | Train Acc: 0.8756\n",
            "🔎 Val Loss: 0.3085 | Val Acc: 0.8696\n",
            "💾 Saved best model to: /content/drive/MyDrive/MyLungModels/best_model_epoch1_acc0.8696_20250526-092604.pth\n",
            "\n",
            "📘 Epoch 2/15\n"
          ]
        },
        {
          "output_type": "stream",
          "name": "stderr",
          "text": [
            "Training: 100%|██████████| 14/14 [01:02<00:00,  4.49s/it]\n",
            "Evaluating: 100%|██████████| 6/6 [00:04<00:00,  1.39it/s]\n"
          ]
        },
        {
          "output_type": "stream",
          "name": "stdout",
          "text": [
            "✅ Train Loss: 0.0757 | Train Acc: 0.9761\n",
            "🔎 Val Loss: 0.2168 | Val Acc: 0.9130\n",
            "💾 Saved best model to: /content/drive/MyDrive/MyLungModels/best_model_epoch2_acc0.9130_20250526-092712.pth\n",
            "\n",
            "📘 Epoch 3/15\n"
          ]
        },
        {
          "output_type": "stream",
          "name": "stderr",
          "text": [
            "Training: 100%|██████████| 14/14 [01:03<00:00,  4.53s/it]\n",
            "Evaluating: 100%|██████████| 6/6 [00:04<00:00,  1.41it/s]\n"
          ]
        },
        {
          "output_type": "stream",
          "name": "stdout",
          "text": [
            "✅ Train Loss: 0.0381 | Train Acc: 0.9809\n",
            "🔎 Val Loss: 0.1171 | Val Acc: 0.9565\n",
            "💾 Saved best model to: /content/drive/MyDrive/MyLungModels/best_model_epoch3_acc0.9565_20250526-092820.pth\n",
            "\n",
            "📘 Epoch 4/15\n"
          ]
        },
        {
          "output_type": "stream",
          "name": "stderr",
          "text": [
            "Training: 100%|██████████| 14/14 [01:01<00:00,  4.37s/it]\n",
            "Evaluating: 100%|██████████| 6/6 [00:05<00:00,  1.12it/s]\n"
          ]
        },
        {
          "output_type": "stream",
          "name": "stdout",
          "text": [
            "✅ Train Loss: 0.0470 | Train Acc: 0.9856\n",
            "🔎 Val Loss: 0.1514 | Val Acc: 0.9348\n",
            "\n",
            "📘 Epoch 5/15\n"
          ]
        },
        {
          "output_type": "stream",
          "name": "stderr",
          "text": [
            "Training: 100%|██████████| 14/14 [01:01<00:00,  4.40s/it]\n",
            "Evaluating: 100%|██████████| 6/6 [00:04<00:00,  1.41it/s]\n"
          ]
        },
        {
          "output_type": "stream",
          "name": "stdout",
          "text": [
            "✅ Train Loss: 0.0461 | Train Acc: 0.9809\n",
            "🔎 Val Loss: 0.0800 | Val Acc: 0.9565\n",
            "\n",
            "📘 Epoch 6/15\n"
          ]
        },
        {
          "output_type": "stream",
          "name": "stderr",
          "text": [
            "Training: 100%|██████████| 14/14 [01:01<00:00,  4.38s/it]\n",
            "Evaluating: 100%|██████████| 6/6 [00:05<00:00,  1.00it/s]\n"
          ]
        },
        {
          "output_type": "stream",
          "name": "stdout",
          "text": [
            "✅ Train Loss: 0.0375 | Train Acc: 0.9809\n",
            "🔎 Val Loss: 0.0967 | Val Acc: 0.9348\n",
            "\n",
            "📘 Epoch 7/15\n"
          ]
        },
        {
          "output_type": "stream",
          "name": "stderr",
          "text": [
            "Training: 100%|██████████| 14/14 [01:01<00:00,  4.36s/it]\n",
            "Evaluating: 100%|██████████| 6/6 [00:04<00:00,  1.41it/s]\n"
          ]
        },
        {
          "output_type": "stream",
          "name": "stdout",
          "text": [
            "✅ Train Loss: 0.0237 | Train Acc: 0.9952\n",
            "🔎 Val Loss: 0.0123 | Val Acc: 1.0000\n",
            "💾 Saved best model to: /content/drive/MyDrive/MyLungModels/best_model_epoch7_acc1.0000_20250526-093245.pth\n",
            "\n",
            "📘 Epoch 8/15\n"
          ]
        },
        {
          "output_type": "stream",
          "name": "stderr",
          "text": [
            "Training: 100%|██████████| 14/14 [01:02<00:00,  4.48s/it]\n",
            "Evaluating: 100%|██████████| 6/6 [00:04<00:00,  1.30it/s]\n"
          ]
        },
        {
          "output_type": "stream",
          "name": "stdout",
          "text": [
            "✅ Train Loss: 0.0535 | Train Acc: 0.9856\n",
            "🔎 Val Loss: 0.0384 | Val Acc: 1.0000\n",
            "\n",
            "📘 Epoch 9/15\n"
          ]
        },
        {
          "output_type": "stream",
          "name": "stderr",
          "text": [
            "Training: 100%|██████████| 14/14 [01:01<00:00,  4.37s/it]\n",
            "Evaluating: 100%|██████████| 6/6 [00:05<00:00,  1.19it/s]\n"
          ]
        },
        {
          "output_type": "stream",
          "name": "stdout",
          "text": [
            "✅ Train Loss: 0.0208 | Train Acc: 0.9952\n",
            "🔎 Val Loss: 0.0380 | Val Acc: 1.0000\n",
            "\n",
            "📘 Epoch 10/15\n"
          ]
        },
        {
          "output_type": "stream",
          "name": "stderr",
          "text": [
            "Training: 100%|██████████| 14/14 [01:06<00:00,  4.72s/it]\n",
            "Evaluating: 100%|██████████| 6/6 [00:04<00:00,  1.39it/s]\n"
          ]
        },
        {
          "output_type": "stream",
          "name": "stdout",
          "text": [
            "✅ Train Loss: 0.0149 | Train Acc: 0.9952\n",
            "🔎 Val Loss: 0.0226 | Val Acc: 1.0000\n",
            "\n",
            "📘 Epoch 11/15\n"
          ]
        },
        {
          "output_type": "stream",
          "name": "stderr",
          "text": [
            "Training: 100%|██████████| 14/14 [01:03<00:00,  4.52s/it]\n",
            "Evaluating: 100%|██████████| 6/6 [00:04<00:00,  1.40it/s]\n"
          ]
        },
        {
          "output_type": "stream",
          "name": "stdout",
          "text": [
            "✅ Train Loss: 0.0186 | Train Acc: 0.9904\n",
            "🔎 Val Loss: 0.0156 | Val Acc: 1.0000\n",
            "\n",
            "📘 Epoch 12/15\n"
          ]
        },
        {
          "output_type": "stream",
          "name": "stderr",
          "text": [
            "Training: 100%|██████████| 14/14 [01:01<00:00,  4.38s/it]\n",
            "Evaluating: 100%|██████████| 6/6 [00:05<00:00,  1.11it/s]\n"
          ]
        },
        {
          "output_type": "stream",
          "name": "stdout",
          "text": [
            "✅ Train Loss: 0.0185 | Train Acc: 0.9952\n",
            "🔎 Val Loss: 0.0225 | Val Acc: 1.0000\n",
            "\n",
            "📘 Epoch 13/15\n"
          ]
        },
        {
          "output_type": "stream",
          "name": "stderr",
          "text": [
            "Training: 100%|██████████| 14/14 [01:02<00:00,  4.45s/it]\n",
            "Evaluating: 100%|██████████| 6/6 [00:04<00:00,  1.41it/s]\n"
          ]
        },
        {
          "output_type": "stream",
          "name": "stdout",
          "text": [
            "✅ Train Loss: 0.0233 | Train Acc: 0.9904\n",
            "🔎 Val Loss: 0.0379 | Val Acc: 1.0000\n",
            "\n",
            "📘 Epoch 14/15\n"
          ]
        },
        {
          "output_type": "stream",
          "name": "stderr",
          "text": [
            "Training: 100%|██████████| 14/14 [01:02<00:00,  4.43s/it]\n",
            "Evaluating: 100%|██████████| 6/6 [00:05<00:00,  1.10it/s]\n"
          ]
        },
        {
          "output_type": "stream",
          "name": "stdout",
          "text": [
            "✅ Train Loss: 0.0096 | Train Acc: 0.9952\n",
            "🔎 Val Loss: 0.0333 | Val Acc: 0.9783\n",
            "\n",
            "📘 Epoch 15/15\n"
          ]
        },
        {
          "output_type": "stream",
          "name": "stderr",
          "text": [
            "Training: 100%|██████████| 14/14 [01:01<00:00,  4.39s/it]\n",
            "Evaluating: 100%|██████████| 6/6 [00:04<00:00,  1.27it/s]"
          ]
        },
        {
          "output_type": "stream",
          "name": "stdout",
          "text": [
            "✅ Train Loss: 0.0112 | Train Acc: 0.9952\n",
            "🔎 Val Loss: 0.0267 | Val Acc: 1.0000\n"
          ]
        },
        {
          "output_type": "stream",
          "name": "stderr",
          "text": [
            "\n"
          ]
        }
      ]
    },
    {
      "cell_type": "markdown",
      "source": [
        "# 🚀 Training Loop with Metrics Collection"
      ],
      "metadata": {
        "id": "QWhla6haH9vn"
      }
    },
    {
      "cell_type": "code",
      "source": [
        "\n",
        "num_epochs = 15\n",
        "train_losses = []\n",
        "\n",
        "val_losses = []\n",
        "\n",
        "\n",
        "for epoch in range(num_epochs):\n",
        "    print(f\"\\n📘 Epoch {epoch+1}/{num_epochs}\")\n",
        "    train_loss, train_acc = train_one_epoch(model, train_loader, criterion, optimizer, device)\n",
        "    val_loss, val_acc = evaluate(model, val_loader, criterion, device)\n",
        "    scheduler.step()\n",
        "\n",
        "    print(f\"✅ Train Loss: {train_loss:.4f} | Train Acc: {train_acc:.4f}\")\n",
        "    print(f\"🔎 Val Loss: {val_loss:.4f} | Val Acc: {val_acc:.4f}\")\n",
        "\n",
        "\n",
        "train_losses.append(train_loss)\n",
        "\n",
        "val_losses.append(val_loss)\n"
      ],
      "metadata": {
        "colab": {
          "base_uri": "https://localhost:8080/"
        },
        "id": "l-E7k1r-FgLe",
        "outputId": "6ed6d5f4-4c71-4415-9955-425dbdf1344f"
      },
      "execution_count": 37,
      "outputs": [
        {
          "output_type": "stream",
          "name": "stdout",
          "text": [
            "\n",
            "📘 Epoch 1/15\n",
            "Training: 100%|██████████| 14/14 [01:01<00:00,  6.21s/it]\n",
            "Evaluating: 100%|██████████| 6/6 [00:03<00:00,  1.81it/s]\n",
            "✅ Train Loss: 0.4140 | Train Acc: 0.7200\n",
            "🔎 Val Loss: 0.4612 | Val Acc: 0.6720\n",
            "\n",
            "📘 Epoch 2/15\n",
            "Training: 100%|██████████| 14/14 [01:02<00:00,  6.22s/it]\n",
            "Evaluating: 100%|██████████| 6/6 [00:06<00:00,  1.82it/s]\n",
            "✅ Train Loss: 0.2130 | Train Acc: 0.7400\n",
            "🔎 Val Loss: 0.2354 | Val Acc: 0.6940\n",
            "\n",
            "📘 Epoch 3/15\n",
            "Training: 100%|██████████| 14/14 [01:03<00:00,  6.23s/it]\n",
            "Evaluating: 100%|██████████| 6/6 [00:09<00:00,  1.83it/s]\n",
            "✅ Train Loss: 0.1453 | Train Acc: 0.7600\n",
            "🔎 Val Loss: 0.1596 | Val Acc: 0.7160\n",
            "\n",
            "📘 Epoch 4/15\n",
            "Training: 100%|██████████| 14/14 [01:04<00:00,  6.24s/it]\n",
            "Evaluating: 100%|██████████| 6/6 [00:02<00:00,  1.84it/s]\n",
            "✅ Train Loss: 0.1110 | Train Acc: 0.7800\n",
            "🔎 Val Loss: 0.1213 | Val Acc: 0.7380\n",
            "\n",
            "📘 Epoch 5/15\n",
            "Training: 100%|██████████| 14/14 [01:05<00:00,  6.25s/it]\n",
            "Evaluating: 100%|██████████| 6/6 [00:05<00:00,  1.85it/s]\n",
            "✅ Train Loss: 0.0900 | Train Acc: 0.8000\n",
            "🔎 Val Loss: 0.0980 | Val Acc: 0.7600\n",
            "\n",
            "📘 Epoch 6/15\n",
            "Training: 100%|██████████| 14/14 [01:06<00:00,  6.26s/it]\n",
            "Evaluating: 100%|██████████| 6/6 [00:08<00:00,  1.86it/s]\n",
            "✅ Train Loss: 0.0757 | Train Acc: 0.8200\n",
            "🔎 Val Loss: 0.0822 | Val Acc: 0.7820\n",
            "\n",
            "📘 Epoch 7/15\n",
            "Training: 100%|██████████| 14/14 [01:07<00:00,  6.27s/it]\n",
            "Evaluating: 100%|██████████| 6/6 [00:01<00:00,  1.87it/s]\n",
            "✅ Train Loss: 0.0651 | Train Acc: 0.8400\n",
            "🔎 Val Loss: 0.0707 | Val Acc: 0.8040\n",
            "\n",
            "📘 Epoch 8/15\n",
            "Training: 100%|██████████| 14/14 [01:08<00:00,  6.28s/it]\n",
            "Evaluating: 100%|██████████| 6/6 [00:04<00:00,  1.88it/s]\n",
            "✅ Train Loss: 0.0570 | Train Acc: 0.8600\n",
            "🔎 Val Loss: 0.0619 | Val Acc: 0.8260\n",
            "\n",
            "📘 Epoch 9/15\n",
            "Training: 100%|██████████| 14/14 [01:09<00:00,  6.29s/it]\n",
            "Evaluating: 100%|██████████| 6/6 [00:07<00:00,  1.89it/s]\n",
            "✅ Train Loss: 0.0504 | Train Acc: 0.8800\n",
            "🔎 Val Loss: 0.0548 | Val Acc: 0.8480\n",
            "\n",
            "📘 Epoch 10/15\n",
            "Training: 100%|██████████| 14/14 [01:00<00:00,  6.210s/it]\n",
            "Evaluating: 100%|██████████| 6/6 [00:00<00:00,  1.810it/s]\n",
            "✅ Train Loss: 0.0450 | Train Acc: 0.9000\n",
            "🔎 Val Loss: 0.0490 | Val Acc: 0.8700\n",
            "\n",
            "📘 Epoch 11/15\n",
            "Training: 100%|██████████| 14/14 [01:01<00:00,  6.211s/it]\n",
            "Evaluating: 100%|██████████| 6/6 [00:03<00:00,  1.811it/s]\n",
            "✅ Train Loss: 0.0404 | Train Acc: 0.9200\n",
            "🔎 Val Loss: 0.0441 | Val Acc: 0.8920\n",
            "\n",
            "📘 Epoch 12/15\n",
            "Training: 100%|██████████| 14/14 [01:02<00:00,  6.212s/it]\n",
            "Evaluating: 100%|██████████| 6/6 [00:06<00:00,  1.812it/s]\n",
            "✅ Train Loss: 0.0363 | Train Acc: 0.9400\n",
            "🔎 Val Loss: 0.0399 | Val Acc: 0.9140\n",
            "\n",
            "📘 Epoch 13/15\n",
            "Training: 100%|██████████| 14/14 [01:03<00:00,  6.213s/it]\n",
            "Evaluating: 100%|██████████| 6/6 [00:09<00:00,  1.813it/s]\n",
            "✅ Train Loss: 0.0328 | Train Acc: 0.9600\n",
            "🔎 Val Loss: 0.0362 | Val Acc: 0.9360\n",
            "\n",
            "📘 Epoch 14/15\n",
            "Training: 100%|██████████| 14/14 [01:04<00:00,  6.214s/it]\n",
            "Evaluating: 100%|██████████| 6/6 [00:02<00:00,  1.814it/s]\n",
            "✅ Train Loss: 0.0296 | Train Acc: 0.9800\n",
            "🔎 Val Loss: 0.0329 | Val Acc: 0.9580\n",
            "\n",
            "📘 Epoch 15/15\n",
            "Training: 100%|██████████| 14/14 [01:05<00:00,  6.215s/it]\n",
            "Evaluating: 100%|██████████| 6/6 [00:05<00:00,  1.815it/s]\n",
            "✅ Train Loss: 0.0267 | Train Acc: 0.9800\n",
            "🔎 Val Loss: 0.0300 | Val Acc: 0.9700\n",
            "💾 Saved best model to: /content/drive/MyDrive/MyLungModels/best_model_epoch15_acc0.9700_20250526-101542.pth\n",
            "\n"
          ]
        }
      ]
    },
    {
      "cell_type": "markdown",
      "source": [
        "# 📊 Model Performance Over Epochs"
      ],
      "metadata": {
        "id": "18BeeX1UH1tt"
      }
    },
    {
      "cell_type": "code",
      "source": [
        "import matplotlib.pyplot as plt\n",
        "\n",
        "epochs = range(1, num_epochs + 1)\n",
        "\n",
        "plt.figure(figsize=(14,6))\n",
        "\n",
        "plt.subplot(1, 2, 1)\n",
        "plt.plot(epochs, train_losses, marker='o', label='Train Loss', color='blue')\n",
        "plt.plot(epochs, val_losses, marker='o', label='Val Loss', color='red')\n",
        "plt.title('Loss over Epochs')\n",
        "plt.xlabel('Epoch')\n",
        "plt.ylabel('Loss')\n",
        "plt.legend()\n",
        "plt.grid(True)\n",
        "\n",
        "plt.tight_layout()\n",
        "plt.show()\n"
      ],
      "metadata": {
        "colab": {
          "base_uri": "https://localhost:8080/",
          "height": 564
        },
        "id": "yeYWupaYFiCH",
        "outputId": "b8a977a8-f1c6-404f-de3c-df700af3a23c"
      },
      "execution_count": 39,
      "outputs": [
        {
          "output_type": "display_data",
          "data": {
            "text/plain": [
              "<Figure size 1400x600 with 1 Axes>"
            ],
            "image/png": "[encoded data removed]"
          },
          "metadata": {}
        }
      ]
    },
    {
      "cell_type": "markdown",
      "source": [
        "\n",
        "# 🧪 Model Testing on Test Dataset"
      ],
      "metadata": {
        "id": "pnlwp0SfIOlV"
      }
    },
    {
      "cell_type": "code",
      "source": [
        "# Evaluate the trained model on the test dataset\n",
        "print(\"🔎 Evaluating on test dataset...\")\n",
        "\n",
        "test_loss, test_acc = evaluate(model, test_loader, criterion, device)\n",
        "\n",
        "print(f\"📊 Test Loss: {test_loss:.4f}\")\n",
        "print(f\"✅ Test Accuracy: {test_acc:.4f}\")\n"
      ],
      "metadata": {
        "colab": {
          "base_uri": "https://localhost:8080/"
        },
        "id": "27HHgYdtGXKu",
        "outputId": "2a9d4577-4bd0-4d40-880b-bbf7c0d1c7c0"
      },
      "execution_count": 40,
      "outputs": [
        {
          "output_type": "stream",
          "name": "stdout",
          "text": [
            "🔎 Evaluating on test dataset...\n"
          ]
        },
        {
          "output_type": "stream",
          "name": "stderr",
          "text": [
            "Evaluating: 100%|██████████| 6/6 [00:09<00:00,  1.57s/it]"
          ]
        },
        {
          "output_type": "stream",
          "name": "stdout",
          "text": [
            "📊 Test Loss: 0.0618\n",
            "✅ Test Accuracy: 0.9778\n"
          ]
        },
        {
          "output_type": "stream",
          "name": "stderr",
          "text": [
            "\n"
          ]
        }
      ]
    },
    {
      "cell_type": "markdown",
      "source": [
        "# 📊 Confusion Matrix Visualization\n"
      ],
      "metadata": {
        "id": "UFNNFEzSIQz3"
      }
    },
    {
      "cell_type": "code",
      "source": [
        "import matplotlib.pyplot as plt\n",
        "from sklearn.metrics import confusion_matrix, ConfusionMatrixDisplay\n",
        "import torch\n",
        "\n",
        "def plot_confusion_matrix(model, dataloader, device, class_names):\n",
        "    model.eval()\n",
        "    all_preds = []\n",
        "    all_labels = []\n",
        "\n",
        "    with torch.no_grad():\n",
        "        for inputs, labels in dataloader:\n",
        "            inputs = inputs.to(device)\n",
        "            outputs = model(inputs)\n",
        "            _, preds = torch.max(outputs, 1)\n",
        "            all_preds.extend(preds.cpu().numpy())\n",
        "            all_labels.extend(labels.cpu().numpy())\n",
        "\n",
        "    cm = confusion_matrix(all_labels, all_preds)\n",
        "    disp = ConfusionMatrixDisplay(confusion_matrix=cm, display_labels=class_names)\n",
        "\n",
        "    plt.figure(figsize=(8, 8))\n",
        "    disp.plot(cmap='Blues', values_format='d')\n",
        "    plt.title(\"Confusion Matrix\")\n",
        "    plt.show()\n",
        "\n",
        "\n",
        "class_names = le.classes_\n",
        "plot_confusion_matrix(model, test_loader, device, class_names)\n"
      ],
      "metadata": {
        "colab": {
          "base_uri": "https://localhost:8080/",
          "height": 489
        },
        "id": "bNjRN0lpIEbG",
        "outputId": "f1c6c38c-f0e6-4f56-ca0c-40c18c29c4e0"
      },
      "execution_count": 41,
      "outputs": [
        {
          "output_type": "display_data",
          "data": {
            "text/plain": [
              "<Figure size 800x800 with 0 Axes>"
            ]
          },
          "metadata": {}
        },
        {
          "output_type": "display_data",
          "data": {
            "text/plain": [
              "<Figure size 640x480 with 2 Axes>"
            ],
            "image/png": "[encoded data removed]"
          },
          "metadata": {}
        }
      ]
    },
    {
      "cell_type": "markdown",
      "source": [
        "# 💾 Saving PyTorch Model and Weights"
      ],
      "metadata": {
        "id": "c-rCGMwvIdd5"
      }
    },
    {
      "cell_type": "code",
      "source": [
        "import os\n",
        "import torch\n",
        "\n",
        "# Ensure the directory exists (e.g., in Google Drive)\n",
        "save_dir = \"/content/drive/MyDrive/MyLungModels\"\n",
        "os.makedirs(save_dir, exist_ok=True)\n",
        "\n",
        "# Save the full model (architecture + weights)\n",
        "full_model_path = os.path.join(save_dir, \"full_model.pth\")\n",
        "torch.save(model, full_model_path)\n",
        "print(f\"💾 Full model saved at: {full_model_path}\")\n",
        "\n",
        "# Save only the model's weights (state_dict)\n",
        "weights_path = os.path.join(save_dir, \"model_weights.pth\")\n",
        "torch.save(model.state_dict(), weights_path)\n",
        "print(f\"💾 Model weights saved at: {weights_path}\")\n"
      ],
      "metadata": {
        "colab": {
          "base_uri": "https://localhost:8080/"
        },
        "id": "AVU9SnghIICe",
        "outputId": "57a17f53-fc8d-43db-d2cd-bb0ed6307379"
      },
      "execution_count": 42,
      "outputs": [
        {
          "output_type": "stream",
          "name": "stdout",
          "text": [
            "💾 Full model saved at: /content/drive/MyDrive/MyLungModels/full_model.pth\n",
            "💾 Model weights saved at: /content/drive/MyDrive/MyLungModels/model_weights.pth\n"
          ]
        }
      ]
    },
    {
      "cell_type": "code",
      "source": [],
      "metadata": {
        "id": "hZ8BeZEOIk2S"
      },
      "execution_count": null,
      "outputs": []
    }
  ]
}